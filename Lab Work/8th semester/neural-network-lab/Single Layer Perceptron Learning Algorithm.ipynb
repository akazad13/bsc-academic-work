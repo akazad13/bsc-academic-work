{
 "cells": [
  {
   "cell_type": "markdown",
   "metadata": {},
   "source": [
    "# Single Layer Perceptron Learning Algorithm"
   ]
  },
  {
   "cell_type": "markdown",
   "metadata": {},
   "source": [
    "Here we have only one artificial neuron by which we classify inputs into two classes: 0 or 1"
   ]
  },
  {
   "cell_type": "markdown",
   "metadata": {},
   "source": [
    "<img src = \"single neuron.png\">"
   ]
  },
  {
   "cell_type": "markdown",
   "metadata": {},
   "source": [
    "## Input description\n",
    "bits = number of bits we want to train\n",
    "<br>X2, X1 are input bits, b is the bias\n",
    "\n",
    "## Output Description\n",
    "weights matrix and threshold value, number of weights equal to the number of bits (input) and we also include the threshold value to the weight matrix as bias"
   ]
  },
  {
   "cell_type": "code",
   "execution_count": 1,
   "metadata": {},
   "outputs": [],
   "source": [
    "# importing necessary pakaga\n",
    "import numpy as np"
   ]
  },
  {
   "cell_type": "code",
   "execution_count": 17,
   "metadata": {},
   "outputs": [],
   "source": [
    "# initialize weight matrix and treshold, present input X, and desired output d\n",
    "\n",
    "def init(bits):\n",
    "    n = 2**bits                             # number of inputs = 2^bits\n",
    "    \n",
    "    w = np.random.uniform(0,1,(1,bits+1))   # initializing weight matrix w, adding threshold as bias to 0th element w[0][0]\n",
    "    w[0][0] = -0.5\n",
    "    \n",
    "    # preparing the inputs and desired outputs\n",
    "    x = np.zeros((bits+1,n))\n",
    "    for i in range(0,n):\n",
    "        x[0][i]=1\n",
    "        for j in range(0,bits):\n",
    "            if(i&(1<<j)):\n",
    "                x[j+1][i]=1\n",
    "    \n",
    "    d = np.zeros((1,n))\n",
    "    for i in range(n//2,n):\n",
    "        d[0][i]=1\n",
    "        \n",
    "    return n,w,x,d"
   ]
  },
  {
   "cell_type": "code",
   "execution_count": 18,
   "metadata": {},
   "outputs": [],
   "source": [
    "def f_h(n):\n",
    "    if(n>=0):\n",
    "        return 1\n",
    "    else:\n",
    "        return 0"
   ]
  },
  {
   "cell_type": "code",
   "execution_count": 19,
   "metadata": {},
   "outputs": [],
   "source": [
    "def learn(n,w,x,d,bits):\n",
    "    \"\"\"\n",
    "    parameter:\n",
    "        n = number of inputs  = 2^bits\n",
    "        w = initial weight matrix with bias, shape of (1,bits+1)\n",
    "        x = inputs , shape of (bits+1,n)\n",
    "        d = desired output , shape of (1,n)\n",
    "        bits = number of bits to train\n",
    "    return:\n",
    "        w = resultant weight matrix, shape of (1,bits+1)\n",
    "    \"\"\"\n",
    "    flag = 1 \n",
    "    while(flag):\n",
    "        flag=0\n",
    "        for i in range (0,n):\n",
    "            y = f_h(np.matmul(w,x[:,i]))\n",
    "            if(y<d[0][i]):                      # output is 0, should be 1\n",
    "                w[0,1:] = w[0,1:]+x[1:,i]\n",
    "                flag=1\n",
    "                break\n",
    "            elif(y>d[0][i]):                    #output is 1, should be 0\n",
    "                w[0,1:] = w[0,1:]-x[1:,i]\n",
    "                flag=1\n",
    "                break\n",
    "    \n",
    "    return w"
   ]
  },
  {
   "cell_type": "code",
   "execution_count": 20,
   "metadata": {},
   "outputs": [],
   "source": [
    "def learn_widrow_hoff(n,w,x,d,bits):\n",
    "    flag = 1\n",
    "    gain = 0.6                                # gain term for better convergence\n",
    "    \n",
    "    while(flag):\n",
    "        flag=0\n",
    "        for i in range (0,n):\n",
    "            y = f_h(np.matmul(w,x[:,i]))\n",
    "            delta = d[0][i]-y                 # delta = d(t)-y(t)\n",
    "            if(delta!=0):   \n",
    "                w[0,1:] = w[0,1:]+gain*delta*x[1:,i]\n",
    "                flag=1\n",
    "                break\n",
    "    return w"
   ]
  },
  {
   "cell_type": "code",
   "execution_count": 21,
   "metadata": {},
   "outputs": [],
   "source": [
    "def learn_widrow_hoff_with_group(n,w,x,d,bits):\n",
    "    flag = 1\n",
    "    gain = 0.6\n",
    "    st = 0\n",
    "    mid = n//2\n",
    "    while(flag):\n",
    "        flag=0\n",
    "        for i in range (st,n):\n",
    "            y = f_h(np.matmul(w,x[:,i]))\n",
    "            delta = d[0][i]-y                             # delta = d(t)-y(t)\n",
    "            if(delta!=0):   \n",
    "                w[0,1:] = w[0,1:]+gain*delta*x[1:,i]\n",
    "                if(i<mid):                                # if not equal in 1st class\n",
    "                    st=0                                  # goto 1st class top\n",
    "                else:\n",
    "                    st=mid                                # else goto 2nd class top\n",
    "                flag=1\n",
    "                break\n",
    "        if(flag==0 and st!=0):                            # for checking all the inputs are checked\n",
    "            flag=1\n",
    "            st=0\n",
    "    return w"
   ]
  },
  {
   "cell_type": "code",
   "execution_count": 22,
   "metadata": {},
   "outputs": [
    {
     "name": "stdout",
     "output_type": "stream",
     "text": [
      "ok\n",
      "[[-0.5        -0.39713682 -0.53659291 -0.01022337 -0.23202909 -0.16949893\n",
      "  -0.45409274 -0.29408167 -0.43114899 -0.30651419  0.08740894 -0.21657826\n",
      "   0.17169022  0.19425689 -0.47727528 -0.22022209  4.49497426]]\n"
     ]
    }
   ],
   "source": [
    "bit =16\n",
    "n,w,x,d = init(bit)\n",
    "#print(n)\n",
    "#print(w)\n",
    "#print(x)\n",
    "#print(d) \n",
    "\n",
    "#w = learn(n,w,x,d,bit)\n",
    "#w = learn_widrow_hoff(n,w,x,d,bit)\n",
    "w = learn_widrow_hoff_with_group(n,w,x,d,bit)\n",
    "print(\"ok\")\n",
    "print(w)"
   ]
  },
  {
   "cell_type": "code",
   "execution_count": 23,
   "metadata": {},
   "outputs": [],
   "source": [
    "### saving the weight\n",
    "np.savetxt('w.csv', w, delimiter=',')"
   ]
  },
  {
   "cell_type": "code",
   "execution_count": 24,
   "metadata": {},
   "outputs": [],
   "source": [
    "### reading weight from file\n",
    "W = np.loadtxt('w.csv', delimiter = ',')"
   ]
  },
  {
   "cell_type": "code",
   "execution_count": 27,
   "metadata": {},
   "outputs": [
    {
     "name": "stdout",
     "output_type": "stream",
     "text": [
      "Enter: 0\n",
      "0\n",
      "Enter: 1\n",
      "0\n",
      "Enter: 2\n",
      "0\n",
      "Enter: 3\n",
      "0\n",
      "Enter: 4\n",
      "0\n",
      "Enter: 5\n",
      "0\n",
      "Enter: 6\n",
      "0\n",
      "Enter: 7\n",
      "0\n",
      "Enter: 8\n",
      "0\n",
      "Enter: 9\n",
      "0\n",
      "Enter: 10\n",
      "0\n",
      "Enter: 11\n",
      "0\n",
      "Enter: 12\n",
      "0\n",
      "Enter: 13\n",
      "0\n",
      "Enter: 14\n",
      "0\n",
      "Enter: 15\n",
      "0\n",
      "Enter: 16\n",
      "0\n",
      "Enter: 17\n",
      "0\n",
      "Enter: 32768\n",
      "1\n",
      "Enter: 32767\n",
      "0\n",
      "Enter: 23232\n",
      "0\n",
      "Enter: 44444\n",
      "1\n",
      "Enter: -1\n"
     ]
    }
   ],
   "source": [
    "i = int(input('Enter: '))\n",
    "while(i!=-1):\n",
    "    y = f_h(np.matmul(W,x[:,i]))\n",
    "    print(y)\n",
    "    i = int(input('Enter: '))\n",
    "\n"
   ]
  },
  {
   "cell_type": "code",
   "execution_count": 16,
   "metadata": {},
   "outputs": [
    {
     "name": "stdout",
     "output_type": "stream",
     "text": [
      "[-0.5        -0.96461159 -1.07774433 ...  1.42986525  1.31673252\n",
      "  0.85212093]\n",
      "32768\n"
     ]
    }
   ],
   "source": [
    "y = np.matmul(W,x)\n",
    "print(y)\n",
    "\n",
    "cnt=0;\n",
    "\n",
    "for i in y:\n",
    "    if(i>=0):\n",
    "        cnt+=1\n",
    "print(cnt)\n"
   ]
  },
  {
   "cell_type": "code",
   "execution_count": 11,
   "metadata": {},
   "outputs": [],
   "source": [
    "np.savetxt('x.csv', x, delimiter=',')\n",
    "np.savetxt('d.csv', d, delimiter=',')"
   ]
  },
  {
   "cell_type": "code",
   "execution_count": null,
   "metadata": {},
   "outputs": [],
   "source": []
  }
 ],
 "metadata": {
  "kernelspec": {
   "display_name": "Python 3",
   "language": "python",
   "name": "python3"
  },
  "language_info": {
   "codemirror_mode": {
    "name": "ipython",
    "version": 3
   },
   "file_extension": ".py",
   "mimetype": "text/x-python",
   "name": "python",
   "nbconvert_exporter": "python",
   "pygments_lexer": "ipython3",
   "version": "3.6.4"
  }
 },
 "nbformat": 4,
 "nbformat_minor": 2
}

{
 "cells": [
  {
   "cell_type": "markdown",
   "metadata": {},
   "source": [
    "# Single Layer Perceptron Learning Algorithm ( less train data)"
   ]
  },
  {
   "cell_type": "code",
   "execution_count": 1,
   "metadata": {},
   "outputs": [],
   "source": [
    "#importing necessary pakaga\n",
    "import numpy as np"
   ]
  },
  {
   "cell_type": "code",
   "execution_count": 2,
   "metadata": {},
   "outputs": [],
   "source": [
    "# initialize weight matrix and treshold, present input X, and desired output d\n",
    "\n",
    "def init(bits):\n",
    "    n = 2**bits                             # number of inputs = 2^bits\n",
    "    \n",
    "    w = np.random.uniform(0,1,(1,bits+1))   # initializing weight matrix w, adding threshold as bias to 0th element w[0][0]\n",
    "    w[0][0] = -0.5\n",
    "    \n",
    "    # preparing the inputs and desired outputs\n",
    "    test_x = np.zeros((bits+1,n))\n",
    "    train_x = np.zeros((bits+1,n//2))\n",
    "    \n",
    "    ## test data prepare\n",
    "    for i in range(0,n):\n",
    "        test_x[0][i]=1\n",
    "        for j in range(0,bits):\n",
    "            if(i&(1<<j)):\n",
    "                test_x[j+1][i]=1\n",
    "    \n",
    "    ## train data prepare\n",
    "    for i in range(0,n):\n",
    "        if(i%2==0):\n",
    "            train_x[:,i//2]=test_x[:,i]\n",
    "    \n",
    "    ## train desired output\n",
    "    d = np.zeros((1,n//2))\n",
    "    for i in range(n//4,n//2):\n",
    "        d[0][i]=1\n",
    "    \n",
    "    ## test desired ouput\n",
    "    test_y = np.zeros((1,n))\n",
    "    for i in range(n//2,n):\n",
    "        test_y[0][i]=1\n",
    "        \n",
    "    return n,w,train_x,d,test_x,test_y"
   ]
  },
  {
   "cell_type": "code",
   "execution_count": 3,
   "metadata": {},
   "outputs": [],
   "source": [
    "### step function\n",
    "def f_h(n):\n",
    "    if(n>=0):\n",
    "        return 1\n",
    "    else:\n",
    "        return 0"
   ]
  },
  {
   "cell_type": "code",
   "execution_count": 4,
   "metadata": {},
   "outputs": [],
   "source": [
    "def learn_widrow_hoff_with_group(n,w,x,d,bits):\n",
    "    \"\"\"\n",
    "    parameter:\n",
    "        n = number of inputs  = 2^bits\n",
    "        w = initial weight matrix with bias, shape of (1,bits+1)\n",
    "        x = inputs , shape of (bits+1,n)\n",
    "        d = desired output , shape of (1,n)\n",
    "        bits = number of bits to train\n",
    "    return:\n",
    "        w = resultant weight matrix, shape of (1,bits+1)\n",
    "    \"\"\"\n",
    "    flag = 1\n",
    "    gain = 0.6\n",
    "    st = 0\n",
    "    mid = n//2\n",
    "    while(flag):\n",
    "        flag=0\n",
    "        for i in range (st,n):\n",
    "            y = f_h(np.matmul(w,x[:,i]))\n",
    "            delta = d[0][i]-y                             # delta = d(t)-y(t)\n",
    "            if(delta!=0):   \n",
    "                w[0,1:] = w[0,1:]+gain*delta*x[1:,i]\n",
    "                if(i<mid):                                # if not equal in 1st class\n",
    "                    st=0                                  # goto 1st class top\n",
    "                else:\n",
    "                    st=mid                                # else goto 2nd class top\n",
    "                flag=1\n",
    "                break\n",
    "        if(flag==0 and st!=0):                            # for checking all the inputs are checked\n",
    "            flag=1\n",
    "            st=0\n",
    "    return w"
   ]
  },
  {
   "cell_type": "code",
   "execution_count": 10,
   "metadata": {},
   "outputs": [
    {
     "name": "stdout",
     "output_type": "stream",
     "text": [
      "Enter number of bits: 20\n",
      "1048576\n",
      "training data = 524288\n",
      "[[-0.5         0.80973904  0.38886522  0.59025897  0.58630036  0.22337186\n",
      "   0.6946773   0.3928069   0.16762739  0.64104744  0.15806476  0.04312513\n",
      "   0.54447961  0.91553553  0.30767796  0.43950314  0.66846285  0.56414776\n",
      "   0.973011    0.99322605  0.40384264]]\n",
      "[[1. 1. 1. ... 1. 1. 1.]\n",
      " [0. 0. 0. ... 0. 0. 0.]\n",
      " [0. 1. 0. ... 1. 0. 1.]\n",
      " ...\n",
      " [0. 0. 0. ... 1. 1. 1.]\n",
      " [0. 0. 0. ... 1. 1. 1.]\n",
      " [0. 0. 0. ... 1. 1. 1.]]\n",
      "[[0. 0. 0. ... 1. 1. 1.]]\n",
      "ok\n",
      "[[-0.5         0.80973904 -0.21113478 -0.00974103 -0.01369964 -0.37662814\n",
      "  -0.5053227  -0.2071931  -0.43237261  0.04104744 -0.44193524  0.04312513\n",
      "  -0.05552039 -0.28446447  0.30767796 -0.16049686  0.06846285 -0.03585224\n",
      "  -0.226989   -0.20677395  4.60384264]]\n"
     ]
    }
   ],
   "source": [
    "bits = int(input('Enter number of bits: '))\n",
    "\n",
    "n,w,train_x,d,test_x,test_y = init(bits)\n",
    "print(n)\n",
    "print('training data = '+ str(n//2))\n",
    "print(w)\n",
    "print(train_x)\n",
    "print(d) \n",
    "\n",
    "w = learn_widrow_hoff_with_group(n//2,w,train_x,d,bits)\n",
    "print(\"ok\")\n",
    "print(w)"
   ]
  },
  {
   "cell_type": "code",
   "execution_count": 11,
   "metadata": {},
   "outputs": [],
   "source": [
    "### saving the weight\n",
    "np.savetxt('w1.csv', w, delimiter=',')"
   ]
  },
  {
   "cell_type": "code",
   "execution_count": 12,
   "metadata": {},
   "outputs": [],
   "source": [
    "### reading weight from file\n",
    "W = np.loadtxt('w1.csv', delimiter = ',')"
   ]
  },
  {
   "cell_type": "code",
   "execution_count": 13,
   "metadata": {},
   "outputs": [
    {
     "name": "stdout",
     "output_type": "stream",
     "text": [
      "[-0.5         0.30973904 -0.71113478 ...  2.41690568  1.39603187\n",
      "  2.2057709 ]\n",
      "total test data = 1048576\n",
      "total misclassified data = 6796.0\n",
      "Accuracy =99.35188293457031%\n"
     ]
    }
   ],
   "source": [
    "y = np.matmul(W,test_x)\n",
    "print(y)\n",
    "print('total test data = ' + str(n))\n",
    "\n",
    "cnt=0;\n",
    "\n",
    "for i in range(0,n):\n",
    "        cnt+=abs(test_y[0][i]-f_h(y[i]))\n",
    "print('total misclassified data = ' + str(cnt))\n",
    "print('Accuracy =' + str(100*(n-cnt)/n) + '%')"
   ]
  },
  {
   "cell_type": "code",
   "execution_count": null,
   "metadata": {},
   "outputs": [],
   "source": []
  }
 ],
 "metadata": {
  "kernelspec": {
   "display_name": "Python 3",
   "language": "python",
   "name": "python3"
  },
  "language_info": {
   "codemirror_mode": {
    "name": "ipython",
    "version": 3
   },
   "file_extension": ".py",
   "mimetype": "text/x-python",
   "name": "python",
   "nbconvert_exporter": "python",
   "pygments_lexer": "ipython3",
   "version": "3.6.4"
  }
 },
 "nbformat": 4,
 "nbformat_minor": 2
}

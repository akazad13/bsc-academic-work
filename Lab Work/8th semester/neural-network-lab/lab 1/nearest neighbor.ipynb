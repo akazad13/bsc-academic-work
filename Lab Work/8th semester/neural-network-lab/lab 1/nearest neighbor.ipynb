{
 "cells": [
  {
   "cell_type": "markdown",
   "metadata": {},
   "source": [
    "# Nearest Neighbor Algorithm Implemetation with Rouge Pattern "
   ]
  },
  {
   "cell_type": "markdown",
   "metadata": {},
   "source": [
    "In this algorithm, we have given some dataset with labels. We need to show them graphically. Then, for any input, we need to classify it and show labels using nearest neighbor algorithm where we take average distance from all the points of one label. Then we need to add the new data into the dataset and show new plot.\n",
    "\n",
    "\n",
    "Given, two class: football player and wrestler and their height and weight<br>\n",
    "class 0 : footballer <br>\n",
    "class 1 : wrestler\n",
    "\n",
    "#Input:\n",
    "Height in cm\n",
    "weight in Kg\n",
    "\n",
    "#label\n",
    "0 for football player\n",
    "1 for wrestler\n"
   ]
  },
  {
   "cell_type": "code",
   "execution_count": 1,
   "metadata": {},
   "outputs": [],
   "source": [
    "# Importing necessary library\n",
    "import numpy as np\n",
    "import matplotlib.pyplot as plt"
   ]
  },
  {
   "cell_type": "code",
   "execution_count": 18,
   "metadata": {},
   "outputs": [],
   "source": [
    "# plot the values\n",
    "def SHOW(arr):\n",
    "    plt.subplot(111)\n",
    "    for i in range(0,arr.shape[0]):\n",
    "        if(arr[i,2]==0):\n",
    "            plt.plot(arr[i,0],arr[i,1],'ro',label='Footballer')\n",
    "        else:\n",
    "            plt.plot(arr[i,0],arr[i,1],'gx', label='Wrestler')\n",
    "\n",
    "    #plt.axis([140, 180, 0, 100])\n",
    "    plt.xlabel(\"height\")\n",
    "    plt.ylabel(\"weight\")\n",
    "    #plt.legend()\n",
    "    plt.show()\n",
    "    return"
   ]
  },
  {
   "cell_type": "code",
   "execution_count": 19,
   "metadata": {},
   "outputs": [],
   "source": [
    "# Assigning new value to its class\n",
    "def ASSIGN(arr, new):\n",
    "    dist0=0\n",
    "    dist1=0\n",
    "    cnt0=0;\n",
    "    cnt1=0;\n",
    "    \n",
    "    for i in range(0,arr.shape[0]):\n",
    "        if(arr[i,2]==0):\n",
    "            dist0 += np.linalg.norm(new-arr[i,:2])\n",
    "            cnt0  += 1\n",
    "        else:\n",
    "            dist1 += np.linalg.norm(new-arr[i,:2])\n",
    "            cnt1  += 1;\n",
    "\n",
    "    \n",
    "    dist0 /= cnt0\n",
    "    dist1 /= cnt1\n",
    "    \n",
    "    \n",
    "    print(dist0)\n",
    "    print(dist1)\n",
    "\n",
    "    if(dist0<dist1):\n",
    "        arr = np.append(arr,[[new[0],new[1],0]],axis=0)\n",
    "    else:\n",
    "        arr = np.append(arr,[[new[0],new[1],1]],axis=0)\n",
    "    return arr"
   ]
  },
  {
   "cell_type": "code",
   "execution_count": 20,
   "metadata": {},
   "outputs": [
    {
     "data": {
      "image/png": "[encoded data removed]",
      "text/plain": [
       "<matplotlib.figure.Figure at 0x7ffaf2b244a8>"
      ]
     },
     "metadata": {},
     "output_type": "display_data"
    }
   ],
   "source": [
    "# initial data\n",
    "# contains (height, weight, label)\n",
    "DataSet = np.array([[160,60,0],[170,70,1],[155,58,0],[155,62,0],[160,55,0],[165,70,1],[171,80,1],[158,65,0],[167,77,1],[158,70,1],[164, 65,0]])\n",
    "SHOW(DataSet)"
   ]
  },
  {
   "cell_type": "code",
   "execution_count": 9,
   "metadata": {},
   "outputs": [
    {
     "name": "stdout",
     "output_type": "stream",
     "text": [
      "Enter height: 165\n",
      "Enter weight: 75\n",
      "15.801275009326256\n",
      "6.26241397591219\n"
     ]
    },
    {
     "data": {
      "image/png": "[encoded data removed]",
      "text/plain": [
       "<matplotlib.figure.Figure at 0x7fc598d6a320>"
      ]
     },
     "metadata": {},
     "output_type": "display_data"
    },
    {
     "name": "stdout",
     "output_type": "stream",
     "text": [
      "Enter height: 162\n",
      "Enter weight: 65\n",
      "6.51641197946594\n",
      "10.433536576296868\n"
     ]
    },
    {
     "data": {
      "image/png": "[encoded data removed]",
      "text/plain": [
       "<matplotlib.figure.Figure at 0x7fc598d8b4e0>"
      ]
     },
     "metadata": {},
     "output_type": "display_data"
    },
    {
     "name": "stdout",
     "output_type": "stream",
     "text": [
      "Enter height: 159\n",
      "Enter weight: 68\n",
      "7.473994995147685\n",
      "9.662110828316303\n"
     ]
    },
    {
     "data": {
      "image/png": "[encoded data removed]",
      "text/plain": [
       "<matplotlib.figure.Figure at 0x7fc598fc70f0>"
      ]
     },
     "metadata": {},
     "output_type": "display_data"
    },
    {
     "name": "stdout",
     "output_type": "stream",
     "text": [
      "Enter height: 0\n",
      "Goodby\n"
     ]
    }
   ],
   "source": [
    "height = int(input(\"Enter height: \"),10)\n",
    "while(height!=0):\n",
    "    weight = int(input(\"Enter weight: \"),10)\n",
    "    new = np.array([height,weight])\n",
    "    DataSet = ASSIGN(DataSet,new)\n",
    "    SHOW(DataSet)\n",
    "    height = int(input(\"Enter height: \"),10)\n",
    "\n",
    "print(\"Goodby\")\n",
    "    "
   ]
  },
  {
   "cell_type": "code",
   "execution_count": null,
   "metadata": {},
   "outputs": [],
   "source": []
  },
  {
   "cell_type": "code",
   "execution_count": null,
   "metadata": {},
   "outputs": [],
   "source": []
  }
 ],
 "metadata": {
  "kernelspec": {
   "display_name": "Python 3",
   "language": "python",
   "name": "python3"
  },
  "language_info": {
   "codemirror_mode": {
    "name": "ipython",
    "version": 3
   },
   "file_extension": ".py",
   "mimetype": "text/x-python",
   "name": "python",
   "nbconvert_exporter": "python",
   "pygments_lexer": "ipython3",
   "version": "3.6.4"
  }
 },
 "nbformat": 4,
 "nbformat_minor": 2
}

{
 "cells": [
  {
   "cell_type": "markdown",
   "metadata": {},
   "source": [
    "# Multi Layer perceptron using backpropagation algorithm"
   ]
  },
  {
   "cell_type": "code",
   "execution_count": 9,
   "metadata": {},
   "outputs": [],
   "source": [
    "import numpy as np"
   ]
  },
  {
   "cell_type": "code",
   "execution_count": 10,
   "metadata": {},
   "outputs": [],
   "source": [
    "## initialize variable\n",
    "\n",
    "def init():\n",
    "    w1 = np.random.uniform(0,1,(2,2))\n",
    "    w2 = np.random.uniform(0,1,(2,1))\n",
    "    th1 = np.random.uniform(0,1,(2,1))\n",
    "    th2 = np.random.uniform(0,1,(1,1))\n",
    "    \n",
    "    k1 = 0.6\n",
    "    k2 = 0.8\n",
    "    \n",
    "    train_x = np.zeros((4,2))\n",
    "    train_y = np.zeros((4,1))\n",
    "    \n",
    "    for i in range(0,4):\n",
    "        for j in range(0,2):\n",
    "            if(i&(1<<j)):\n",
    "                train_x[i][j]=1\n",
    "    \n",
    "    train_y[1,0] = train_y[2,0]=1\n",
    "    \n",
    "    return train_x, train_y, w1, w2, th1, th2, k1, k2"
   ]
  },
  {
   "cell_type": "code",
   "execution_count": 11,
   "metadata": {},
   "outputs": [],
   "source": [
    "def sigmoid(k, activ):\n",
    "    t = 1 + np.exp(-1*k*activ)\n",
    "    return (1/t)"
   ]
  },
  {
   "cell_type": "code",
   "execution_count": 12,
   "metadata": {},
   "outputs": [],
   "source": [
    "def layer(x,w,th,k):\n",
    "    net = np.matmul(x,w)\n",
    "    activ = net + np.transpose(th)\n",
    "    out = sigmoid(k,activ)\n",
    "    return out"
   ]
  },
  {
   "cell_type": "code",
   "execution_count": 21,
   "metadata": {},
   "outputs": [],
   "source": [
    "def calculate_tot_error(train_x, train_y, w1, w2, th1, th2, k1, k2):\n",
    "    oj = layer(train_x, w1, th1, k1)\n",
    "    ok = layer(oj, w2, th2, k1)\n",
    "    t = np.sum((train_y - ok)**2)*0.5\n",
    "    return t"
   ]
  },
  {
   "cell_type": "code",
   "execution_count": 40,
   "metadata": {},
   "outputs": [],
   "source": [
    "def learn_multilayer(train_x, train_y, w1, w2, th1, th2, k1, k2):\n",
    "    \"\"\"\n",
    "    parameter:\n",
    "        train_x = inputs , shape of (4,2)\n",
    "        train_y = desired output , shape of (4,1)\n",
    "        w1 = weight of input layer, shape of (2,2)\n",
    "        w2 = weight of hidden layer, shape of (2,1)\n",
    "        th1 = threshold of input layer, shape of (2,1)\n",
    "        th2 = threshole of hidden layer , shape of (1,1)\n",
    "        k1, k2  = \n",
    "    return:\n",
    "        w1, w2, th1, th2\n",
    "    \"\"\"\n",
    "    learning_rate1 = 0.01\n",
    "    learning_rate2 = 0.01\n",
    "    cnt=0\n",
    "    \n",
    "    while(True):\n",
    "        for i in range (0,4):\n",
    "            #print('-----------')\n",
    "           # net_j = np.matmul(np.reshape(train_x[i,:],(1,2)),w1)   # (1,2)\n",
    "            #activ_j = net_j + np.transpose(th1)    # (1,2)\n",
    "           # O_j = sigmoid(k1, activ_j)             # (1,2)\n",
    "            \n",
    "            Oj = layer(np.reshape(train_x[i,:],(1,2)), w1, th1, k1)\n",
    "            \n",
    "            \n",
    "           # net_k = np.matmul(O_j,w2)     # (1,1)\n",
    "           # activ_k = net_k + th2         # (1,1)\n",
    "           # O_k = sigmoid(k2, activ_k)    # (1,1)\n",
    "            \n",
    "            Ok = layer(Oj, w2, th2, k2)\n",
    "            \n",
    "            \n",
    "            err = train_y[i,0] - Ok      # (1,1)\n",
    "            \n",
    "            \n",
    "            del_w2 = learning_rate2*k2*err*Oj*Ok*(1-Ok)\n",
    "            w2 = w2 + np.transpose(del_w2)\n",
    "\n",
    "            del_th2 = learning_rate2*k2*err*Ok*(1-Ok)\n",
    "            th2 = th2 + del_th2\n",
    "\n",
    "\n",
    "            s = np.matmul(err, np.transpose(w2))\n",
    "            s = learning_rate1*k1*Oj*(1-Oj)*s\n",
    "\n",
    "            del_w1 = np.matmul(np.transpose(np.reshape(train_x[i,:],(1,2))), s)\n",
    "            w1 = w1 + del_w1\n",
    "\n",
    "            del_th1 = np.transpose(s)\n",
    "            th1 = th1 + del_th1\n",
    "            \n",
    "        totalError = calculate_tot_error(train_x, train_y, w1, w2, th1, th2, k1, k2)\n",
    "        cnt+=1\n",
    "        if(totalError<0.01 or cnt==1000000):\n",
    "            print(totalError)\n",
    "            break\n",
    "                \n",
    "                \n",
    "    return w1, w2, th1, th2"
   ]
  },
  {
   "cell_type": "code",
   "execution_count": 41,
   "metadata": {},
   "outputs": [
    {
     "name": "stdout",
     "output_type": "stream",
     "text": [
      "[[0. 0.]\n",
      " [1. 0.]\n",
      " [0. 1.]\n",
      " [1. 1.]]\n",
      "[[0.]\n",
      " [1.]\n",
      " [1.]\n",
      " [0.]]\n",
      "[[0.38290281 0.7572064 ]\n",
      " [0.47573091 0.29563531]]\n",
      "[[0.76521236]\n",
      " [0.97995758]]\n",
      "[[0.76068103]\n",
      " [0.74352   ]]\n",
      "[[0.74609592]]\n",
      "0.009999995386084492\n",
      "-------\n",
      "[[12.57730034 15.44662292]\n",
      " [12.57746799 15.44811804]]\n",
      "[[-9.2307955 ]\n",
      " [ 8.81008663]]\n",
      "[[-19.16758387]\n",
      " [ -7.1285499 ]]\n",
      "[[-4.20755008]]\n"
     ]
    }
   ],
   "source": [
    "train_x, train_y, w1, w2, th1, th2, k1, k2 = init()\n",
    "\n",
    "print(train_x)\n",
    "print(train_y)\n",
    "print(w1)\n",
    "print(w2)\n",
    "print(th1)\n",
    "print(th2)\n",
    "\n",
    "w1, w2, th1, th2 = learn_multilayer(train_x, train_y, w1, w2, th1, th2, k1, k2)\n",
    "\n",
    "print('-------')\n",
    "print(w1)\n",
    "print(w2)\n",
    "print(th1)\n",
    "print(th2)"
   ]
  },
  {
   "cell_type": "code",
   "execution_count": 46,
   "metadata": {},
   "outputs": [
    {
     "name": "stdout",
     "output_type": "stream",
     "text": [
      "[[0.97055927]]\n"
     ]
    }
   ],
   "source": [
    "Oj = layer(np.reshape(train_x[1,:], (1,2)), w1, th1, k1)\n",
    "Ok = layer(Oj, w2, th2, k2)\n",
    "print(Ok)"
   ]
  },
  {
   "cell_type": "code",
   "execution_count": null,
   "metadata": {},
   "outputs": [],
   "source": []
  }
 ],
 "metadata": {
  "kernelspec": {
   "display_name": "Python 3",
   "language": "python",
   "name": "python3"
  },
  "language_info": {
   "codemirror_mode": {
    "name": "ipython",
    "version": 3
   },
   "file_extension": ".py",
   "mimetype": "text/x-python",
   "name": "python",
   "nbconvert_exporter": "python",
   "pygments_lexer": "ipython3",
   "version": "3.6.4"
  }
 },
 "nbformat": 4,
 "nbformat_minor": 2
}

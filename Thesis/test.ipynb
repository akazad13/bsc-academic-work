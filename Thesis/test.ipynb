{
 "cells": [
  {
   "cell_type": "markdown",
   "metadata": {},
   "source": [
    "# creating test data"
   ]
  },
  {
   "cell_type": "code",
   "execution_count": 2,
   "metadata": {},
   "outputs": [],
   "source": [
    "#importing pakage\n",
    "\n",
    "import numpy as np\n",
    "import matplotlib.pyplot as plt\n",
    "import matplotlib\n",
    "import os\n",
    "from PIL import Image\n",
    "from numpy import *\n",
    "# SKLEARN\n",
    "from sklearn.utils import shuffle\n",
    "from sklearn.cross_validation import train_test_split"
   ]
  },
  {
   "cell_type": "code",
   "execution_count": 3,
   "metadata": {},
   "outputs": [],
   "source": [
    "# input image dimensions\n",
    "img_rows, img_cols = 64, 64\n",
    "\n",
    "# number of channels\n",
    "img_channels = 3\n",
    "\n",
    "#  data\n",
    "\n",
    "path1 = '/home/mirror/Documents/Dataset'    #path of folder of images    \n",
    "path2 = '/home/mirror/Documents/out'  #path of folder to save images\n"
   ]
  },
  {
   "cell_type": "code",
   "execution_count": 10,
   "metadata": {},
   "outputs": [],
   "source": [
    "def LOAD(n, path):\n",
    "    listing = sorted(os.listdir(path+'/'+str(n)))\n",
    "    num_samples=size(listing)\n",
    "    print (num_samples)\n",
    "    mat = array([array(Image.open(path + '/'+str(n)+'/' + file)) for file in listing],'f')\n",
    "    \n",
    "    return mat"
   ]
  },
  {
   "cell_type": "code",
   "execution_count": 18,
   "metadata": {
    "scrolled": true
   },
   "outputs": [
    {
     "name": "stdout",
     "output_type": "stream",
     "text": [
      "3500\n",
      "3500\n",
      "3500\n",
      "3500\n",
      "3500\n",
      "3500\n",
      "3500\n",
      "3500\n",
      "3500\n",
      "3500\n"
     ]
    },
    {
     "data": {
      "text/plain": [
       "(35000, 64, 64, 3)"
      ]
     },
     "execution_count": 18,
     "metadata": {},
     "output_type": "execute_result"
    }
   ],
   "source": [
    "imMat = LOAD(0, path1)\n",
    "imMat = np.append(imMat,LOAD(1,path1), axis = 0)\n",
    "imMat = np.append(imMat,LOAD(2,path1), axis = 0)\n",
    "imMat = np.append(imMat,LOAD(3,path1), axis = 0)\n",
    "imMat = np.append(imMat,LOAD(4,path1), axis = 0)\n",
    "imMat = np.append(imMat,LOAD(5,path1), axis = 0)\n",
    "imMat = np.append(imMat,LOAD(6,path1), axis = 0)\n",
    "imMat = np.append(imMat,LOAD(7,path1), axis = 0)\n",
    "imMat = np.append(imMat,LOAD(8,path1), axis = 0)\n",
    "imMat = np.append(imMat,LOAD(9,path1), axis = 0)\n",
    "imMat.shape"
   ]
  },
  {
   "cell_type": "code",
   "execution_count": 21,
   "metadata": {},
   "outputs": [],
   "source": [
    "label=np.ones((35000,),dtype = int)\n",
    "    "
   ]
  },
  {
   "cell_type": "code",
   "execution_count": 22,
   "metadata": {},
   "outputs": [],
   "source": [
    "label[0:3499]=0\n",
    "label[3500:6999]=1\n",
    "label[7000:10499]=2\n",
    "label[10500:13999]=3\n",
    "label[14000:17499]=4\n",
    "label[17500:20999]=5\n",
    "label[21000:24499]=6\n",
    "label[24500:27999]=7\n",
    "label[28000:31499]=8\n",
    "label[31500:34999]=9"
   ]
  },
  {
   "cell_type": "code",
   "execution_count": 24,
   "metadata": {},
   "outputs": [
    {
     "name": "stdout",
     "output_type": "stream",
     "text": [
      "6\n"
     ]
    },
    {
     "data": {
      "image/png": "[encoded data removed]",
      "text/plain": [
       "<matplotlib.figure.Figure at 0x7fa00b82c470>"
      ]
     },
     "metadata": {},
     "output_type": "display_data"
    }
   ],
   "source": [
    "img=imMat[23467].reshape(img_rows,img_cols,img_channels)\n",
    "plt.imshow(img)\n",
    "print(label[23467])"
   ]
  },
  {
   "cell_type": "code",
   "execution_count": 25,
   "metadata": {},
   "outputs": [],
   "source": [
    "#data,Label = shuffle(imMat,label)\n",
    "#DATA = [data,Label]"
   ]
  },
  {
   "cell_type": "code",
   "execution_count": 27,
   "metadata": {},
   "outputs": [],
   "source": []
  },
  {
   "cell_type": "code",
   "execution_count": 28,
   "metadata": {},
   "outputs": [
    {
     "name": "stdout",
     "output_type": "stream",
     "text": [
      "(35000, 64, 64, 3)\n",
      "(35000,)\n"
     ]
    }
   ],
   "source": [
    "print (DATA[0].shape)\n",
    "print (DATA[1].shape)"
   ]
  },
  {
   "cell_type": "code",
   "execution_count": 29,
   "metadata": {},
   "outputs": [],
   "source": [
    "X_train, Xtest, y_train, y_test = train_test_split(imMat,label, test_size = 0.2)"
   ]
  },
  {
   "cell_type": "code",
   "execution_count": 30,
   "metadata": {},
   "outputs": [
    {
     "name": "stdout",
     "output_type": "stream",
     "text": [
      "(28000, 64, 64, 3)\n",
      "(28000,)\n",
      "(7000, 64, 64, 3)\n"
     ]
    }
   ],
   "source": [
    "print(X_train.shape)\n",
    "print(y_train.shape)\n",
    "print(Xtest.shape)"
   ]
  },
  {
   "cell_type": "code",
   "execution_count": 41,
   "metadata": {},
   "outputs": [
    {
     "name": "stdout",
     "output_type": "stream",
     "text": [
      "8\n"
     ]
    },
    {
     "data": {
      "image/png": "[encoded data removed]",
      "text/plain": [
       "<matplotlib.figure.Figure at 0x7fa00b56e710>"
      ]
     },
     "metadata": {},
     "output_type": "display_data"
    }
   ],
   "source": [
    "img=X_train[4].reshape(img_rows,img_cols,img_channels)\n",
    "plt.imshow(img)\n",
    "print(y_train[4])"
   ]
  },
  {
   "cell_type": "code",
   "execution_count": 43,
   "metadata": {},
   "outputs": [],
   "source": [
    "import h5py"
   ]
  },
  {
   "cell_type": "code",
   "execution_count": 45,
   "metadata": {},
   "outputs": [],
   "source": [
    "with h5py.File(path2+'/train_set_handsign_digit.h5','w') as hdf:\n",
    "    hdf.create_dataset('X_train', data = X_train)\n",
    "    hdf.create_dataset('y_train', data = y_train)"
   ]
  },
  {
   "cell_type": "code",
   "execution_count": 46,
   "metadata": {},
   "outputs": [],
   "source": [
    "with h5py.File(path2+'/test_set_handsign_digit.h5','w') as hdf:\n",
    "    hdf.create_dataset('X_test', data = Xtest)\n",
    "    hdf.create_dataset('y_test', data = y_test)"
   ]
  },
  {
   "cell_type": "code",
   "execution_count": null,
   "metadata": {},
   "outputs": [],
   "source": []
  }
 ],
 "metadata": {
  "kernelspec": {
   "display_name": "Python 3",
   "language": "python",
   "name": "python3"
  },
  "language_info": {
   "codemirror_mode": {
    "name": "ipython",
    "version": 3
   },
   "file_extension": ".py",
   "mimetype": "text/x-python",
   "name": "python",
   "nbconvert_exporter": "python",
   "pygments_lexer": "ipython3",
   "version": "3.6.4"
  }
 },
 "nbformat": 4,
 "nbformat_minor": 2
}

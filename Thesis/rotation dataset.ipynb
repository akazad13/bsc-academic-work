{
 "cells": [
  {
   "cell_type": "markdown",
   "metadata": {},
   "source": [
    "# Rotation Dataset maker"
   ]
  },
  {
   "cell_type": "code",
   "execution_count": 8,
   "metadata": {},
   "outputs": [],
   "source": [
    "import numpy as np\n",
    "import matplotlib.pyplot as plt\n",
    "import matplotlib\n",
    "import os\n",
    "from PIL import Image\n",
    "from numpy import *\n",
    "# SKLEARN\n",
    "from sklearn.utils import shuffle\n",
    "from sklearn.cross_validation import train_test_split\n"
   ]
  },
  {
   "cell_type": "code",
   "execution_count": 45,
   "metadata": {},
   "outputs": [],
   "source": [
    "# input image dimensions\n",
    "img_rows, img_cols = 64, 64\n",
    "\n",
    "# number of channels\n",
    "img_channels = 3\n",
    "\n",
    "#%%\n",
    "#  data\n",
    "\n",
    "path1 = '/home/mirror/Documents/pic'    #path of folder of images    \n",
    "path2 = '/home/mirror/Documents/out'  #path of folder to save images"
   ]
  },
  {
   "cell_type": "code",
   "execution_count": 48,
   "metadata": {},
   "outputs": [
    {
     "name": "stdout",
     "output_type": "stream",
     "text": [
      "700\n"
     ]
    }
   ],
   "source": [
    "listing = sorted(os.listdir(path1))\n",
    "num_samples=size(listing)\n",
    "print (num_samples)\n",
    "\n",
    "\n",
    "for file in listing:\n",
    "    img = Image.open(path1 + '/' + file)\n",
    "    name = file[:len(file)-4]\n",
    "    for i in range(1,51):\n",
    "        angle = random.uniform(0,360)\n",
    "        img1 = img.resize((img_rows, img_cols))\n",
    "        img1 = img1.rotate(angle, expand = True);\n",
    "        img1 = img1.resize((img_rows, img_cols))\n",
    "        img1.save(path2 +'/' +name + \"_\"+str(angle) + \".png\", \"png\")"
   ]
  },
  {
   "cell_type": "code",
   "execution_count": 42,
   "metadata": {},
   "outputs": [
    {
     "data": {
      "text/plain": [
       "65.14166803882559"
      ]
     },
     "execution_count": 42,
     "metadata": {},
     "output_type": "execute_result"
    }
   ],
   "source": [
    "random.uniform(0,360)"
   ]
  },
  {
   "cell_type": "code",
   "execution_count": null,
   "metadata": {},
   "outputs": [],
   "source": []
  },
  {
   "cell_type": "code",
   "execution_count": null,
   "metadata": {},
   "outputs": [],
   "source": []
  }
 ],
 "metadata": {
  "kernelspec": {
   "display_name": "Python 3",
   "language": "python",
   "name": "python3"
  },
  "language_info": {
   "codemirror_mode": {
    "name": "ipython",
    "version": 3
   },
   "file_extension": ".py",
   "mimetype": "text/x-python",
   "name": "python",
   "nbconvert_exporter": "python",
   "pygments_lexer": "ipython3",
   "version": "3.6.4"
  }
 },
 "nbformat": 4,
 "nbformat_minor": 2
}
